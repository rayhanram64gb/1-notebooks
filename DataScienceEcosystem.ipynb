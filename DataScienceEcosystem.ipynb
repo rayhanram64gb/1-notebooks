{
 "cells": [
  {
   "cell_type": "markdown",
   "id": "6c9bc7bb-8458-4148-8bec-799d5df36d9c",
   "metadata": {},
   "source": [
    "# Data Science Tools and Ecosystem"
   ]
  },
  {
   "cell_type": "markdown",
   "id": "49568337-eb58-4fa1-9cd4-207d26a248cb",
   "metadata": {},
   "source": [
    "In this notebook, Data Science Tools and Ecosystem are summarized."
   ]
  },
  {
   "cell_type": "markdown",
   "id": "d5a6c895-3200-4ff8-8d92-854ac4639fef",
   "metadata": {},
   "source": [
    "Some of the popular languages that Data Scientist use are:\n",
    "1. Python\n",
    "2. R\n",
    "3. SQL "
   ]
  },
  {
   "cell_type": "markdown",
   "id": "2df33e26-fdee-44d6-9ffd-4279cf5f82f1",
   "metadata": {},
   "source": [
    "Some of the commonly used libraries used by Data Scientists include:\n",
    "- pandas\n",
    "- matplotlib\n",
    "- numpy"
   ]
  },
  {
   "cell_type": "markdown",
   "id": "85db3792-9e41-4dfb-89c8-7894098f9683",
   "metadata": {},
   "source": [
    "## Data Science Tools\n",
    "\n",
    "| Data Science Tools |\n",
    "| ------------------ |\n",
    "| Jupyter Notebook |\n",
    "| Python |\n",
    "| R Studio |"
   ]
  },
  {
   "cell_type": "markdown",
   "id": "464a581b-63d8-4bd7-a9be-194c48d6d3b7",
   "metadata": {},
   "source": [
    "### Below are a few example of evaluating arithmetic expressions in Python"
   ]
  },
  {
   "cell_type": "code",
   "execution_count": 2,
   "id": "73ecfb8c-4712-467e-8f8d-633049e29e20",
   "metadata": {},
   "outputs": [
    {
     "data": {
      "text/plain": [
       "17"
      ]
     },
     "execution_count": 2,
     "metadata": {},
     "output_type": "execute_result"
    }
   ],
   "source": [
    "(3*4)+5\n",
    "\n",
    "# This a simple arithmetiv expression to mutiply then add integers"
   ]
  },
  {
   "cell_type": "code",
   "execution_count": 5,
   "id": "ee140ffe-269b-44ca-901c-5a7c10d98d3a",
   "metadata": {},
   "outputs": [
    {
     "data": {
      "text/plain": [
       "3.3333333333333335"
      ]
     },
     "execution_count": 5,
     "metadata": {},
     "output_type": "execute_result"
    }
   ],
   "source": [
    "200 / 60\n",
    "\n",
    "# This will convert 200 minutes to hours by dividing by 60"
   ]
  },
  {
   "cell_type": "markdown",
   "id": "359e2df1-f029-4344-8ca6-bf8c3eb026e7",
   "metadata": {},
   "source": [
    "**Objectives:**\n",
    "\n",
    "- List popular languages for Data Science\n",
    "- List libraries for Data Science\n",
    "- Learn data visualization techniques"
   ]
  },
  {
   "cell_type": "markdown",
   "id": "b1c0c268-192c-4778-9061-e1c40547c0df",
   "metadata": {},
   "source": [
    "## Author\n",
    "\n",
    "RAYHAN RAMADHAN"
   ]
  },
  {
   "cell_type": "code",
   "execution_count": null,
   "id": "58447a28-6c3b-49c7-9afd-d0471c0da9c0",
   "metadata": {},
   "outputs": [],
   "source": []
  }
 ],
 "metadata": {
  "kernelspec": {
   "display_name": "Python 3 (ipykernel)",
   "language": "python",
   "name": "python3"
  },
  "language_info": {
   "codemirror_mode": {
    "name": "ipython",
    "version": 3
   },
   "file_extension": ".py",
   "mimetype": "text/x-python",
   "name": "python",
   "nbconvert_exporter": "python",
   "pygments_lexer": "ipython3",
   "version": "3.11.9"
  }
 },
 "nbformat": 4,
 "nbformat_minor": 5
}
